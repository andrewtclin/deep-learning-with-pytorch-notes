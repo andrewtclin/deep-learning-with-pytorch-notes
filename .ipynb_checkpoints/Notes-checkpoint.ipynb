{
 "cells": [
  {
   "cell_type": "markdown",
   "metadata": {},
   "source": [
    "## Machine Learning\n",
    "\n",
    "* Turning things (data) into numbers & finding patterns in those numbers.\n",
    "\n",
    "* Deep Learning - Subset of Machine Learning\n",
    "\n",
    "* If you can build a **simple rule-based** system that doesn't requirie ML, do that.\n",
    "\n",
    "## Deep Learning\n",
    "\n",
    "* Good for:\n",
    "    * Problems with long lists of rules\n",
    "        * When traditional approach fails, ML/DL will help.\n",
    "    * Continually changing environments\n",
    "        * Deep Learning can adapt/learn new scenarios.\n",
    "    * Discovering insights within large collections of data\n",
    "    \n",
    "* Not good for:\n",
    "    * Need explainability\n",
    "        * Patterns learnt by DL model are typically uninterpretable by a human.\n",
    "    * When traditional approach is a better option\n",
    "    * When errors are unacceptable\n",
    "    * When don't have much data\n",
    "    \n",
    "    \n",
    "## Machine Learning vs Deep Learning\n",
    "\n",
    "**Not absolute**\n",
    "* Machine Learning - Structured data\n",
    "    * Tables (rows & columns)\n",
    "    * XGBoost is typically the best algorithm, but there are exceptions.\n",
    "* Deep Learning - Unstructured data\n",
    "    * Random text, all over  the place.\n",
    "    * Voices, images, etc."
   ]
  },
  {
   "cell_type": "code",
   "execution_count": null,
   "metadata": {},
   "outputs": [],
   "source": []
  }
 ],
 "metadata": {
  "kernelspec": {
   "display_name": "Python [conda env:data_science_playground]",
   "language": "python",
   "name": "conda-env-data_science_playground-py"
  },
  "language_info": {
   "codemirror_mode": {
    "name": "ipython",
    "version": 3
   },
   "file_extension": ".py",
   "mimetype": "text/x-python",
   "name": "python",
   "nbconvert_exporter": "python",
   "pygments_lexer": "ipython3",
   "version": "3.10.8"
  }
 },
 "nbformat": 4,
 "nbformat_minor": 4
}
